{
 "cells": [
  {
   "cell_type": "markdown",
   "id": "c3d231d4-6e29-4471-9449-d5d60bc9f328",
   "metadata": {},
   "source": [
    "This is my first Jupyter notebook."
   ]
  },
  {
   "cell_type": "code",
   "execution_count": 1,
   "id": "97211f81-7af9-4abf-b428-a27f98c2e730",
   "metadata": {},
   "outputs": [
    {
     "name": "stdout",
     "output_type": "stream",
     "text": [
      "My name is Yijing Sun\n"
     ]
    }
   ],
   "source": [
    "print ('My name is Yijing Sun')"
   ]
  },
  {
   "cell_type": "code",
   "execution_count": null,
   "id": "e7a252d1-d662-49f7-8088-cf8c5301c43c",
   "metadata": {},
   "outputs": [],
   "source": []
  }
 ],
 "metadata": {
  "kernelspec": {
   "display_name": "Python 3 (ipykernel)",
   "language": "python",
   "name": "python3"
  },
  "language_info": {
   "codemirror_mode": {
    "name": "ipython",
    "version": 3
   },
   "file_extension": ".py",
   "mimetype": "text/x-python",
   "name": "python",
   "nbconvert_exporter": "python",
   "pygments_lexer": "ipython3",
   "version": "3.13.7"
  }
 },
 "nbformat": 4,
 "nbformat_minor": 5
}
